{
 "cells": [
  {
   "cell_type": "markdown",
   "id": "a79f0ff0",
   "metadata": {
    "papermill": {
     "duration": 0.003348,
     "end_time": "2024-02-28T23:15:49.761339",
     "exception": false,
     "start_time": "2024-02-28T23:15:49.757991",
     "status": "completed"
    },
    "tags": []
   },
   "source": [
    "# Offline installation of `seqeval` package\n",
    "\n",
    "This notebook offer offline installation of `seqeval` package"
   ]
  },
  {
   "cell_type": "code",
   "execution_count": 1,
   "id": "007a5891",
   "metadata": {
    "execution": {
     "iopub.execute_input": "2024-02-28T23:15:49.768872Z",
     "iopub.status.busy": "2024-02-28T23:15:49.767497Z",
     "iopub.status.idle": "2024-02-28T23:15:49.782015Z",
     "shell.execute_reply": "2024-02-28T23:15:49.780779Z"
    },
    "papermill": {
     "duration": 0.019998,
     "end_time": "2024-02-28T23:15:49.783994",
     "exception": false,
     "start_time": "2024-02-28T23:15:49.763996",
     "status": "completed"
    },
    "tags": []
   },
   "outputs": [
    {
     "name": "stdout",
     "output_type": "stream",
     "text": [
      "Writing requirements.txt\n"
     ]
    }
   ],
   "source": [
    "%%writefile requirements.txt\n",
    "seqeval"
   ]
  },
  {
   "cell_type": "markdown",
   "id": "c3672380",
   "metadata": {
    "papermill": {
     "duration": 0.002197,
     "end_time": "2024-02-28T23:15:49.788680",
     "exception": false,
     "start_time": "2024-02-28T23:15:49.786483",
     "status": "completed"
    },
    "tags": []
   },
   "source": [
    "Download the package(s)"
   ]
  },
  {
   "cell_type": "code",
   "execution_count": 2,
   "id": "bd7ca4be",
   "metadata": {
    "execution": {
     "iopub.execute_input": "2024-02-28T23:15:49.794701Z",
     "iopub.status.busy": "2024-02-28T23:15:49.794166Z",
     "iopub.status.idle": "2024-02-28T23:15:56.324617Z",
     "shell.execute_reply": "2024-02-28T23:15:56.323657Z"
    },
    "papermill": {
     "duration": 6.536375,
     "end_time": "2024-02-28T23:15:56.327277",
     "exception": false,
     "start_time": "2024-02-28T23:15:49.790902",
     "status": "completed"
    },
    "tags": []
   },
   "outputs": [
    {
     "name": "stdout",
     "output_type": "stream",
     "text": [
      "Collecting seqeval (from -r requirements.txt (line 1))\r\n",
      "  Downloading seqeval-1.2.2.tar.gz (43 kB)\r\n",
      "\u001b[2K     \u001b[90m━━━━━━━━━━━━━━━━━━━━━━━━━━━━━━━━━━━━━━━━\u001b[0m \u001b[32m43.6/43.6 kB\u001b[0m \u001b[31m1.6 MB/s\u001b[0m eta \u001b[36m0:00:00\u001b[0m\r\n",
      "\u001b[?25h  Preparing metadata (setup.py) ... \u001b[?25l-\b \b\\\b \b|\b \bdone\r\n",
      "\u001b[?25hCollecting numpy>=1.14.0 (from seqeval->-r requirements.txt (line 1))\r\n",
      "  Downloading numpy-1.26.4-cp310-cp310-manylinux_2_17_x86_64.manylinux2014_x86_64.whl.metadata (61 kB)\r\n",
      "\u001b[2K     \u001b[90m━━━━━━━━━━━━━━━━━━━━━━━━━━━━━━━━━━━━━━━━\u001b[0m \u001b[32m61.0/61.0 kB\u001b[0m \u001b[31m2.5 MB/s\u001b[0m eta \u001b[36m0:00:00\u001b[0m\r\n",
      "\u001b[?25hCollecting scikit-learn>=0.21.3 (from seqeval->-r requirements.txt (line 1))\r\n",
      "  Downloading scikit_learn-1.4.1.post1-cp310-cp310-manylinux_2_17_x86_64.manylinux2014_x86_64.whl.metadata (11 kB)\r\n",
      "Collecting scipy>=1.6.0 (from scikit-learn>=0.21.3->seqeval->-r requirements.txt (line 1))\r\n",
      "  Downloading scipy-1.12.0-cp310-cp310-manylinux_2_17_x86_64.manylinux2014_x86_64.whl.metadata (60 kB)\r\n",
      "\u001b[2K     \u001b[90m━━━━━━━━━━━━━━━━━━━━━━━━━━━━━━━━━━━━━━━━\u001b[0m \u001b[32m60.4/60.4 kB\u001b[0m \u001b[31m3.7 MB/s\u001b[0m eta \u001b[36m0:00:00\u001b[0m\r\n",
      "\u001b[?25hCollecting joblib>=1.2.0 (from scikit-learn>=0.21.3->seqeval->-r requirements.txt (line 1))\r\n",
      "  Downloading joblib-1.3.2-py3-none-any.whl.metadata (5.4 kB)\r\n",
      "Collecting threadpoolctl>=2.0.0 (from scikit-learn>=0.21.3->seqeval->-r requirements.txt (line 1))\r\n",
      "  Downloading threadpoolctl-3.3.0-py3-none-any.whl.metadata (13 kB)\r\n",
      "Downloading numpy-1.26.4-cp310-cp310-manylinux_2_17_x86_64.manylinux2014_x86_64.whl (18.2 MB)\r\n",
      "\u001b[2K   \u001b[90m━━━━━━━━━━━━━━━━━━━━━━━━━━━━━━━━━━━━━━━━\u001b[0m \u001b[32m18.2/18.2 MB\u001b[0m \u001b[31m60.5 MB/s\u001b[0m eta \u001b[36m0:00:00\u001b[0m\r\n",
      "\u001b[?25hDownloading scikit_learn-1.4.1.post1-cp310-cp310-manylinux_2_17_x86_64.manylinux2014_x86_64.whl (12.1 MB)\r\n",
      "\u001b[2K   \u001b[90m━━━━━━━━━━━━━━━━━━━━━━━━━━━━━━━━━━━━━━━━\u001b[0m \u001b[32m12.1/12.1 MB\u001b[0m \u001b[31m84.7 MB/s\u001b[0m eta \u001b[36m0:00:00\u001b[0m\r\n",
      "\u001b[?25hDownloading joblib-1.3.2-py3-none-any.whl (302 kB)\r\n",
      "\u001b[2K   \u001b[90m━━━━━━━━━━━━━━━━━━━━━━━━━━━━━━━━━━━━━━━━\u001b[0m \u001b[32m302.2/302.2 kB\u001b[0m \u001b[31m20.1 MB/s\u001b[0m eta \u001b[36m0:00:00\u001b[0m\r\n",
      "\u001b[?25hDownloading scipy-1.12.0-cp310-cp310-manylinux_2_17_x86_64.manylinux2014_x86_64.whl (38.4 MB)\r\n",
      "\u001b[2K   \u001b[90m━━━━━━━━━━━━━━━━━━━━━━━━━━━━━━━━━━━━━━━━\u001b[0m \u001b[32m38.4/38.4 MB\u001b[0m \u001b[31m39.9 MB/s\u001b[0m eta \u001b[36m0:00:00\u001b[0m\r\n",
      "\u001b[?25hDownloading threadpoolctl-3.3.0-py3-none-any.whl (17 kB)\r\n",
      "Saved ./seqeval-1.2.2.tar.gz\r\n",
      "Saved ./numpy-1.26.4-cp310-cp310-manylinux_2_17_x86_64.manylinux2014_x86_64.whl\r\n",
      "Saved ./scikit_learn-1.4.1.post1-cp310-cp310-manylinux_2_17_x86_64.manylinux2014_x86_64.whl\r\n",
      "Saved ./joblib-1.3.2-py3-none-any.whl\r\n",
      "Saved ./scipy-1.12.0-cp310-cp310-manylinux_2_17_x86_64.manylinux2014_x86_64.whl\r\n",
      "Saved ./threadpoolctl-3.3.0-py3-none-any.whl\r\n",
      "Successfully downloaded seqeval numpy scikit-learn joblib scipy threadpoolctl\r\n"
     ]
    }
   ],
   "source": [
    "!python -m pip download --destination-directory . -r requirements.txt"
   ]
  },
  {
   "cell_type": "markdown",
   "id": "3c92c1a5",
   "metadata": {
    "papermill": {
     "duration": 0.005111,
     "end_time": "2024-02-28T23:15:56.338096",
     "exception": false,
     "start_time": "2024-02-28T23:15:56.332985",
     "status": "completed"
    },
    "tags": []
   },
   "source": [
    "Use the downloaded packages"
   ]
  }
 ],
 "metadata": {
  "kaggle": {
   "accelerator": "none",
   "dataSources": [],
   "dockerImageVersionId": 30664,
   "isGpuEnabled": false,
   "isInternetEnabled": true,
   "language": "python",
   "sourceType": "notebook"
  },
  "kernelspec": {
   "display_name": "Python 3",
   "language": "python",
   "name": "python3"
  },
  "language_info": {
   "codemirror_mode": {
    "name": "ipython",
    "version": 3
   },
   "file_extension": ".py",
   "mimetype": "text/x-python",
   "name": "python",
   "nbconvert_exporter": "python",
   "pygments_lexer": "ipython3",
   "version": "3.10.13"
  },
  "papermill": {
   "default_parameters": {},
   "duration": 9.483512,
   "end_time": "2024-02-28T23:15:56.662435",
   "environment_variables": {},
   "exception": null,
   "input_path": "__notebook__.ipynb",
   "output_path": "__notebook__.ipynb",
   "parameters": {},
   "start_time": "2024-02-28T23:15:47.178923",
   "version": "2.5.0"
  }
 },
 "nbformat": 4,
 "nbformat_minor": 5
}
